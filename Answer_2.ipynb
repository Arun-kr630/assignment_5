{
 "cells": [
  {
   "cell_type": "markdown",
   "id": "05fa9225",
   "metadata": {},
   "source": [
    "# Since i each step we are taking the whole training dataset for mse .than MSE will be same in each iteration"
   ]
  },
  {
   "cell_type": "code",
   "execution_count": 207,
   "id": "66b75ca4",
   "metadata": {},
   "outputs": [],
   "source": [
    "import pandas as pd\n",
    "import numpy as np\n",
    "from sklearn.model_selection import train_test_split \n",
    "data={} # this is dictionary is used to store th value with respect to mse"
   ]
  },
  {
   "cell_type": "code",
   "execution_count": 208,
   "id": "dc7c8770",
   "metadata": {},
   "outputs": [
    {
     "data": {
      "text/html": [
       "<div>\n",
       "<style scoped>\n",
       "    .dataframe tbody tr th:only-of-type {\n",
       "        vertical-align: middle;\n",
       "    }\n",
       "\n",
       "    .dataframe tbody tr th {\n",
       "        vertical-align: top;\n",
       "    }\n",
       "\n",
       "    .dataframe thead th {\n",
       "        text-align: right;\n",
       "    }\n",
       "</style>\n",
       "<table border=\"1\" class=\"dataframe\">\n",
       "  <thead>\n",
       "    <tr style=\"text-align: right;\">\n",
       "      <th></th>\n",
       "      <th>age</th>\n",
       "      <th>salary</th>\n",
       "    </tr>\n",
       "  </thead>\n",
       "  <tbody>\n",
       "    <tr>\n",
       "      <th>0</th>\n",
       "      <td>45</td>\n",
       "      <td>4.70</td>\n",
       "    </tr>\n",
       "    <tr>\n",
       "      <th>1</th>\n",
       "      <td>33</td>\n",
       "      <td>0.80</td>\n",
       "    </tr>\n",
       "    <tr>\n",
       "      <th>2</th>\n",
       "      <td>23</td>\n",
       "      <td>0.85</td>\n",
       "    </tr>\n",
       "    <tr>\n",
       "      <th>3</th>\n",
       "      <td>26</td>\n",
       "      <td>0.75</td>\n",
       "    </tr>\n",
       "    <tr>\n",
       "      <th>4</th>\n",
       "      <td>59</td>\n",
       "      <td>5.10</td>\n",
       "    </tr>\n",
       "    <tr>\n",
       "      <th>5</th>\n",
       "      <td>63</td>\n",
       "      <td>5.20</td>\n",
       "    </tr>\n",
       "    <tr>\n",
       "      <th>6</th>\n",
       "      <td>35</td>\n",
       "      <td>1.15</td>\n",
       "    </tr>\n",
       "    <tr>\n",
       "      <th>7</th>\n",
       "      <td>29</td>\n",
       "      <td>0.80</td>\n",
       "    </tr>\n",
       "    <tr>\n",
       "      <th>8</th>\n",
       "      <td>48</td>\n",
       "      <td>4.90</td>\n",
       "    </tr>\n",
       "    <tr>\n",
       "      <th>9</th>\n",
       "      <td>60</td>\n",
       "      <td>5.15</td>\n",
       "    </tr>\n",
       "    <tr>\n",
       "      <th>10</th>\n",
       "      <td>39</td>\n",
       "      <td>1.23</td>\n",
       "    </tr>\n",
       "    <tr>\n",
       "      <th>11</th>\n",
       "      <td>47</td>\n",
       "      <td>4.95</td>\n",
       "    </tr>\n",
       "    <tr>\n",
       "      <th>12</th>\n",
       "      <td>19</td>\n",
       "      <td>1.78</td>\n",
       "    </tr>\n",
       "    <tr>\n",
       "      <th>13</th>\n",
       "      <td>24</td>\n",
       "      <td>0.95</td>\n",
       "    </tr>\n",
       "  </tbody>\n",
       "</table>\n",
       "</div>"
      ],
      "text/plain": [
       "    age  salary\n",
       "0    45    4.70\n",
       "1    33    0.80\n",
       "2    23    0.85\n",
       "3    26    0.75\n",
       "4    59    5.10\n",
       "5    63    5.20\n",
       "6    35    1.15\n",
       "7    29    0.80\n",
       "8    48    4.90\n",
       "9    60    5.15\n",
       "10   39    1.23\n",
       "11   47    4.95\n",
       "12   19    1.78\n",
       "13   24    0.95"
      ]
     },
     "execution_count": 208,
     "metadata": {},
     "output_type": "execute_result"
    }
   ],
   "source": [
    "#Age is presented in terms of Year and salary is presented in terms of lakh\n",
    "Original_df=pd.DataFrame({\"age\":[45,33,23,26,59,63,35,29,48,60,39,47,19,24],\n",
    "                \"salary\":[4.70,0.80,0.85,0.75,5.10,5.20,1.15,0.80,4.90,5.15,1.23,4.95,1.78,0.95]})\n",
    "Original_df"
   ]
  },
  {
   "cell_type": "code",
   "execution_count": 209,
   "id": "09cf7ac2",
   "metadata": {},
   "outputs": [],
   "source": [
    "# Y=Original_df['salary']\n",
    "# X=Original_df['age']\n",
    "train=Original_df.iloc[0:11,:] #80 precent for trin \n",
    "test=Original_df.iloc[11:14,]\n",
    "#20 precent for test"
   ]
  },
  {
   "cell_type": "code",
   "execution_count": 210,
   "id": "180ccb1f",
   "metadata": {},
   "outputs": [],
   "source": [
    "\n",
    "for k in range(len(train)-1):\n",
    "    A=train.iloc[k,:] #Creating part A\n",
    "    B=train.iloc[k+1:,] #Creating part B\n",
    "    th=(A[0]+B.iloc[0,0])/2\n",
    "    mse=0\n",
    "    for i in train['salary']:\n",
    "        mse+=np.square(avg-i)\n",
    "    mse=mse/len(train)\n",
    "    data[th]=mse\n",
    "mse_alg=mse"
   ]
  },
  {
   "cell_type": "code",
   "execution_count": 211,
   "id": "5c85219a",
   "metadata": {},
   "outputs": [
    {
     "data": {
      "text/plain": [
       "{39.0: 4.164340027829313,\n",
       " 28.0: 4.164340027829313,\n",
       " 24.5: 4.164340027829313,\n",
       " 42.5: 4.164340027829313,\n",
       " 61.0: 4.164340027829313,\n",
       " 49.0: 4.164340027829313,\n",
       " 32.0: 4.164340027829313,\n",
       " 38.5: 4.164340027829313,\n",
       " 54.0: 4.164340027829313,\n",
       " 49.5: 4.164340027829313}"
      ]
     },
     "execution_count": 211,
     "metadata": {},
     "output_type": "execute_result"
    }
   ],
   "source": [
    "data"
   ]
  },
  {
   "cell_type": "markdown",
   "id": "4e4e4a22",
   "metadata": {},
   "source": [
    "# Prebuilt Regression model"
   ]
  },
  {
   "cell_type": "code",
   "execution_count": 212,
   "id": "37793764",
   "metadata": {},
   "outputs": [
    {
     "name": "stdout",
     "output_type": "stream",
     "text": [
      "Mean Squared Error: 0.015000000000000041\n"
     ]
    }
   ],
   "source": [
    "import numpy as np\n",
    "from sklearn.model_selection import train_test_split\n",
    "from sklearn.tree import DecisionTreeRegressor\n",
    "from sklearn.metrics import mean_squared_error\n",
    "import matplotlib.pyplot as plt\n",
    "np.random.seed(42)\n",
    "X=Original_df[['age']]\n",
    "y=Original_df[['salary']]\n",
    "X_train, X_test, y_train, y_test = train_test_split(X, y, test_size=0.2, random_state=42)\n",
    "regressor = DecisionTreeRegressor(max_depth=4) \n",
    "regressor.fit(X_train, y_train)\n",
    "y_pred = regressor.predict(X_test)\n",
    "mse = mean_squared_error(y_test, y_pred)\n",
    "print(f'Mean Squared Error: {mse}')\n"
   ]
  },
  {
   "cell_type": "code",
   "execution_count": 213,
   "id": "43eb4645",
   "metadata": {},
   "outputs": [
    {
     "data": {
      "text/plain": [
       "<BarContainer object of 2 artists>"
      ]
     },
     "execution_count": 213,
     "metadata": {},
     "output_type": "execute_result"
    },
    {
     "data": {
      "image/png": "[encoded data removed]",
      "text/plain": [
       "<Figure size 432x288 with 1 Axes>"
      ]
     },
     "metadata": {
      "needs_background": "light"
     },
     "output_type": "display_data"
    }
   ],
   "source": [
    "import matplotlib.pyplot as plt\n",
    "plt.bar(['BY_ALGO','BY_PREBUILT'],[mse_alg,mse])"
   ]
  },
  {
   "cell_type": "code",
   "execution_count": 216,
   "id": "9c009065",
   "metadata": {},
   "outputs": [
    {
     "data": {
      "text/plain": [
       "<Figure size 432x288 with 0 Axes>"
      ]
     },
     "metadata": {},
     "output_type": "display_data"
    }
   ],
   "source": [
    "plt.savefig(\"output1\", facecolor='y', bbox_inches=\"tight\",\n",
    "            pad_inches=0.3, transparent=True)"
   ]
  },
  {
   "cell_type": "code",
   "execution_count": null,
   "id": "2fea0ffc",
   "metadata": {},
   "outputs": [],
   "source": []
  }
 ],
 "metadata": {
  "kernelspec": {
   "display_name": "Python 3 (ipykernel)",
   "language": "python",
   "name": "python3"
  },
  "language_info": {
   "codemirror_mode": {
    "name": "ipython",
    "version": 3
   },
   "file_extension": ".py",
   "mimetype": "text/x-python",
   "name": "python",
   "nbconvert_exporter": "python",
   "pygments_lexer": "ipython3",
   "version": "3.9.12"
  }
 },
 "nbformat": 4,
 "nbformat_minor": 5
}
