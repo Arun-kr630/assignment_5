{
 "cells": [
  {
   "cell_type": "code",
   "execution_count": 15,
   "id": "b816e160",
   "metadata": {},
   "outputs": [],
   "source": [
    "import pandas as pd"
   ]
  },
  {
   "cell_type": "code",
   "execution_count": 16,
   "id": "dca19668",
   "metadata": {},
   "outputs": [],
   "source": [
    "df=pd.DataFrame({'Avg. Temperature':[0.2,1.6,5.7,11.3,18.8,16.1,20.1,23.5,23.4,12.9],\n",
    "                 'Avg. Rainy Days':[12.1,11.1,10.7,11,4,12.1,8.4,3.4,2.6,6.8]})\n",
    "df.to_csv('temp.csv')"
   ]
  },
  {
   "cell_type": "markdown",
   "id": "e92e23f8",
   "metadata": {},
   "source": [
    "# Algorithm implementation"
   ]
  },
  {
   "cell_type": "code",
   "execution_count": 17,
   "id": "7e119bdb",
   "metadata": {},
   "outputs": [
    {
     "name": "stdout",
     "output_type": "stream",
     "text": [
      "Mean Squared Error: 5077.662740848143\n"
     ]
    }
   ],
   "source": [
    "import numpy as np \n",
    "import pandas as pd \n",
    "from sklearn.metrics import mean_squared_error\n",
    "from sklearn.model_selection import train_test_split \n",
    "import matplotlib.pyplot as plt \n",
    "class LinearRegression() : \n",
    "    def __init__( self, learning_rate, iterations ) : \n",
    "        self.learning_rate = learning_rate \n",
    "        self.iterations = iterations \n",
    "    def fit( self, X, Y ) : \n",
    "        self.m, self.n = X.shape \n",
    "        self.W = np.zeros( self.n ) \n",
    "        self.b = 0\n",
    "        self.X = X \n",
    "        self.Y = Y \n",
    "        for i in range( self.iterations ) : \n",
    "            self.update_weights() \n",
    "            return self\n",
    "    def update_weights( self ) : \n",
    "        Y_pred = self.predict( self.X ) \n",
    "        dW = - ( 2 * ( self.X.T ).dot( self.Y - Y_pred ) ) / self.m \n",
    "        db = - 2 * np.sum( self.Y - Y_pred ) / self.m \n",
    "        self.W = self.W - self.learning_rate * dW \n",
    "        self.b = self.b - self.learning_rate * db \n",
    "        return self\n",
    "    def predict( self, X ) : \n",
    "        return X.dot( self.W ) + self.b \n",
    "def main() : \n",
    "    df = pd.read_csv( \"temp.csv\" ) \n",
    "    X = df.iloc[:,:-1].values \n",
    "    Y = df.iloc[:,1].values \n",
    "    X_train, X_test, Y_train, Y_test = train_test_split( \n",
    "    X, Y, test_size = 0.2, random_state = 0 )  \n",
    "    model = LinearRegression( iterations = 1000, learning_rate = 0.01 ) \n",
    "    model.fit( X_train, Y_train ) \n",
    "    Y_pred = model.predict( X_test ) \n",
    "    mse = mean_squared_error(Y_test, Y_pred)\n",
    "    print(f'Mean Squared Error: {mse}')\n",
    "if __name__ == \"__main__\" : \n",
    "    main()\n"
   ]
  },
  {
   "cell_type": "markdown",
   "id": "56b07140",
   "metadata": {},
   "source": [
    "# Using Sklearn pre_built"
   ]
  },
  {
   "cell_type": "code",
   "execution_count": 18,
   "id": "60a337f3",
   "metadata": {},
   "outputs": [
    {
     "data": {
      "text/html": [
       "<div>\n",
       "<style scoped>\n",
       "    .dataframe tbody tr th:only-of-type {\n",
       "        vertical-align: middle;\n",
       "    }\n",
       "\n",
       "    .dataframe tbody tr th {\n",
       "        vertical-align: top;\n",
       "    }\n",
       "\n",
       "    .dataframe thead th {\n",
       "        text-align: right;\n",
       "    }\n",
       "</style>\n",
       "<table border=\"1\" class=\"dataframe\">\n",
       "  <thead>\n",
       "    <tr style=\"text-align: right;\">\n",
       "      <th></th>\n",
       "      <th>Avg. Temperature</th>\n",
       "      <th>Avg. Rainy Days</th>\n",
       "    </tr>\n",
       "  </thead>\n",
       "  <tbody>\n",
       "    <tr>\n",
       "      <th>0</th>\n",
       "      <td>0.2</td>\n",
       "      <td>12.1</td>\n",
       "    </tr>\n",
       "    <tr>\n",
       "      <th>1</th>\n",
       "      <td>1.6</td>\n",
       "      <td>11.1</td>\n",
       "    </tr>\n",
       "    <tr>\n",
       "      <th>2</th>\n",
       "      <td>5.7</td>\n",
       "      <td>10.7</td>\n",
       "    </tr>\n",
       "    <tr>\n",
       "      <th>3</th>\n",
       "      <td>11.3</td>\n",
       "      <td>11.0</td>\n",
       "    </tr>\n",
       "    <tr>\n",
       "      <th>4</th>\n",
       "      <td>18.8</td>\n",
       "      <td>4.0</td>\n",
       "    </tr>\n",
       "    <tr>\n",
       "      <th>5</th>\n",
       "      <td>16.1</td>\n",
       "      <td>12.1</td>\n",
       "    </tr>\n",
       "    <tr>\n",
       "      <th>6</th>\n",
       "      <td>20.1</td>\n",
       "      <td>8.4</td>\n",
       "    </tr>\n",
       "    <tr>\n",
       "      <th>7</th>\n",
       "      <td>23.5</td>\n",
       "      <td>3.4</td>\n",
       "    </tr>\n",
       "    <tr>\n",
       "      <th>8</th>\n",
       "      <td>23.4</td>\n",
       "      <td>2.6</td>\n",
       "    </tr>\n",
       "    <tr>\n",
       "      <th>9</th>\n",
       "      <td>12.9</td>\n",
       "      <td>6.8</td>\n",
       "    </tr>\n",
       "  </tbody>\n",
       "</table>\n",
       "</div>"
      ],
      "text/plain": [
       "   Avg. Temperature  Avg. Rainy Days\n",
       "0               0.2             12.1\n",
       "1               1.6             11.1\n",
       "2               5.7             10.7\n",
       "3              11.3             11.0\n",
       "4              18.8              4.0\n",
       "5              16.1             12.1\n",
       "6              20.1              8.4\n",
       "7              23.5              3.4\n",
       "8              23.4              2.6\n",
       "9              12.9              6.8"
      ]
     },
     "execution_count": 18,
     "metadata": {},
     "output_type": "execute_result"
    }
   ],
   "source": [
    "df"
   ]
  },
  {
   "cell_type": "code",
   "execution_count": 19,
   "id": "fedf096d",
   "metadata": {},
   "outputs": [],
   "source": [
    "#initializing the dependent and independent feature\n",
    "X=df[['Avg. Temperature']]\n",
    "Y=df[['Avg. Rainy Days']]"
   ]
  },
  {
   "cell_type": "code",
   "execution_count": 20,
   "id": "2cd93be3",
   "metadata": {},
   "outputs": [],
   "source": [
    "from sklearn.model_selection import train_test_split\n",
    "X_train, X_test, y_train, y_test = train_test_split(\n",
    "X, Y, test_size=0.2, random_state=42)"
   ]
  },
  {
   "cell_type": "code",
   "execution_count": 21,
   "id": "92d3b014",
   "metadata": {},
   "outputs": [],
   "source": [
    "from sklearn.linear_model import LinearRegression"
   ]
  },
  {
   "cell_type": "code",
   "execution_count": 22,
   "id": "a5bce295",
   "metadata": {},
   "outputs": [],
   "source": [
    "regressor=LinearRegression()"
   ]
  },
  {
   "cell_type": "code",
   "execution_count": 23,
   "id": "ac9dc8c2",
   "metadata": {},
   "outputs": [
    {
     "data": {
      "text/plain": [
       "LinearRegression()"
      ]
     },
     "execution_count": 23,
     "metadata": {},
     "output_type": "execute_result"
    }
   ],
   "source": [
    "regressor.fit(X_train,y_train)"
   ]
  },
  {
   "cell_type": "code",
   "execution_count": 24,
   "id": "97c506de",
   "metadata": {},
   "outputs": [
    {
     "name": "stdout",
     "output_type": "stream",
     "text": [
      "-0.322119892237031\n"
     ]
    }
   ],
   "source": [
    "coefficient=regressor.coef_\n",
    "print(coefficient[0][0])"
   ]
  },
  {
   "cell_type": "markdown",
   "id": "7e7b32f0",
   "metadata": {},
   "source": [
    "# MSE"
   ]
  },
  {
   "cell_type": "code",
   "execution_count": 25,
   "id": "3d623a6d",
   "metadata": {},
   "outputs": [
    {
     "name": "stdout",
     "output_type": "stream",
     "text": [
      "4.784533617336363\n"
     ]
    }
   ],
   "source": [
    "from sklearn.metrics import mean_squared_error\n",
    "y_pred = regressor.predict(X_test)\n",
    "mse=mean_squared_error(y_test, y_pred)\n",
    "print(mse)"
   ]
  },
  {
   "cell_type": "code",
   "execution_count": null,
   "id": "af49455b",
   "metadata": {},
   "outputs": [],
   "source": []
  }
 ],
 "metadata": {
  "kernelspec": {
   "display_name": "Python 3 (ipykernel)",
   "language": "python",
   "name": "python3"
  },
  "language_info": {
   "codemirror_mode": {
    "name": "ipython",
    "version": 3
   },
   "file_extension": ".py",
   "mimetype": "text/x-python",
   "name": "python",
   "nbconvert_exporter": "python",
   "pygments_lexer": "ipython3",
   "version": "3.9.12"
  }
 },
 "nbformat": 4,
 "nbformat_minor": 5
}
